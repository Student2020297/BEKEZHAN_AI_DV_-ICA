{
 "cells": [
  {
   "cell_type": "code",
   "execution_count": 23,
   "id": "78a1861b",
   "metadata": {},
   "outputs": [],
   "source": [
    "import csp\n",
    "from csp import Constraint, CSP"
   ]
  },
  {
   "cell_type": "code",
   "execution_count": 24,
   "id": "23f5b9c8",
   "metadata": {},
   "outputs": [],
   "source": [
    "from typing import Dict, List, Optional"
   ]
  },
  {
   "cell_type": "markdown",
   "id": "e0ff94c8",
   "metadata": {},
   "source": [
    "### Tasks for Artificial Intelligence\n",
    "\n",
    "Ciara is looking for employees for her new company, which develops and provides AI based logistic software for retailers. Ciara has determined that she needs:\n",
    "\n",
    "2 Python Programmers, 2 AI Engineers, 1 Web Designer, 1 Database Admin, and 1 Systems Engineer.\n",
    "Assume that if a person has two abilities, he or she can take on two roles in the company.\n",
    "\n",
    "So Ciara narrowed down her selections to the following people:\n",
    "\n",
    "| Name  | Abilities |\n",
    "|:-----:|:---------:|\n",
    "| Peter | Python and AI |\n",
    "| Juan  | Web and AI |\n",
    "| Jim   | AI and Systems |\n",
    "| Jane  | Python and Database |\n",
    "| Mary  | Web and Systems |\n",
    "| Bruce | Systems and Python |\n",
    "| Anita | Web and AI |\n",
    "\n",
    "\n",
    "Scenario 1:\n",
    "\n",
    "Suppose Ciara knows Python, and only has funds to hire three more people.\n"
   ]
  },
  {
   "cell_type": "markdown",
   "id": "e8ab9bcd",
   "metadata": {},
   "source": [
    "## Solution 1\n"
   ]
  },
  {
   "cell_type": "markdown",
   "id": "d2f736e5",
   "metadata": {},
   "source": [
    "In the context of a Constraint Satisfaction Problem (CSP), the elements are defined as follows:\n",
    "\n",
    "- **Variables (X)**: These are the entities whose values need to be determined. In this case, the variables would be the roles Ciara needs to fill in her company, i.e., Python Programmer, AI Engineer, Web Designer, Database Admin, and Systems Engineer.\n",
    "\n",
    "- **Domain**: This is the set of possible values that the variables can take. Here, the domain would be the set of people Ciara can hire for each role, i.e., Peter, Juan, Jim, Jane, Mary, Bruce, Anita, and Ciara herself (since she knows Python).\n",
    "\n",
    "- **Constraints (Factors)**: These are the rules or restrictions that need to be satisfied. In this scenario, the constraints would be:\n",
    "    1. Each role must be filled by someone who has the corresponding ability.\n",
    "    2. If a person has two abilities, they can take on two roles.\n",
    "    3. Ciara can only hire three more people.\n",
    "\n",
    "This forms the basis of the CSP. The goal then is to assign values (people) to the variables (roles) in such a way that all constraints are satisfied. This is a common problem in AI and is solved using various algorithms and techniques."
   ]
  },
  {
   "cell_type": "code",
   "execution_count": 25,
   "id": "c9581893",
   "metadata": {
    "scrolled": true
   },
   "outputs": [
    {
     "data": {
      "text/plain": [
       "' variables: List[str] = [\"Python Programmer\", \\n                        \"Python Programmer\", \\n                        \"AI Engineer\", \\n                        \"AI Engineer\", \\n                        \"Web Designer\",\\n                       \"Database Admin\", \\n                       \"Systems Engineer\"]\\n    \\n#domains: Dict[str, List[str]] = {\\n    \\'Peter\\': [\\'Python Programmer\\', \\'AI Engineer\\'],\\n    \\'Juan\\': [\\'Web Designer\\', \\'AI Engineer\\'],\\n    \\'Jim\\': [\\'AI Engineer\\', \\'Systems Engineer\\'],\\n    \\'Jane\\': [\\'Python Programmer\\', \\'Database Admin\\'],\\n    \\'Mary\\': [\\'Web Designer\\', \\'Systems Engineer\\'],\\n    \\'Bruce\\': [\\'Python Programmer\\', \\'Systems Engineer\\'],\\n    \\'Anita\\': [\\'Web Designer\\', \\'AI Engineer\\'],\\n    \\'Ciara\\': [\\'Python Programmer\\'] }\\n    '"
      ]
     },
     "execution_count": 25,
     "metadata": {},
     "output_type": "execute_result"
    }
   ],
   "source": [
    "\"\"\" variables: List[str] = [\"Python Programmer\", \n",
    "                        \"Python Programmer\", \n",
    "                        \"AI Engineer\", \n",
    "                        \"AI Engineer\", \n",
    "                        \"Web Designer\",\n",
    "                       \"Database Admin\", \n",
    "                       \"Systems Engineer\"]\n",
    "    \n",
    "#domains: Dict[str, List[str]] = {\n",
    "    'Peter': ['Python Programmer', 'AI Engineer'],\n",
    "    'Juan': ['Web Designer', 'AI Engineer'],\n",
    "    'Jim': ['AI Engineer', 'Systems Engineer'],\n",
    "    'Jane': ['Python Programmer', 'Database Admin'],\n",
    "    'Mary': ['Web Designer', 'Systems Engineer'],\n",
    "    'Bruce': ['Python Programmer', 'Systems Engineer'],\n",
    "    'Anita': ['Web Designer', 'AI Engineer'],\n",
    "    'Ciara': ['Python Programmer'] }\n",
    "    \"\"\""
   ]
  },
  {
   "cell_type": "code",
   "execution_count": 122,
   "id": "1f0cfd37",
   "metadata": {},
   "outputs": [],
   "source": [
    "class MaxThreePeopleConstraint(Constraint[str, str]):\n",
    "    def __init__(self, variables: List[str]):\n",
    "        super().__init__(variables)\n",
    "       # print(\"Max3Ppl\",variables)\n",
    "\n",
    "    def satisfied(self, assignment: Dict[str, str]) -> bool:\n",
    "        # Check if more than three people are hired\n",
    "        # Converting assignment.values to a set, to remove any duplicates\n",
    "        if len(set(assignment.values())) > 4:  # Adjusted to 4 to account for Ciara\n",
    "            #print(assignment.values())\n",
    "            return False\n",
    "        print(\"Final\",assignment.values())\n",
    "        return True\n",
    "\n",
    "\n"
   ]
  },
  {
   "cell_type": "code",
   "execution_count": 123,
   "id": "25c6a315",
   "metadata": {},
   "outputs": [],
   "source": [
    "class MaxTwoRolesConstraint(Constraint[str, str]):\n",
    "    def __init__(self, variables: List[str]):\n",
    "        super().__init__(variables)\n",
    "        \n",
    "    def satisfied(self, assignment: Dict[str, str]) -> bool:\n",
    "        # Check if any person is assigned more than two roles\n",
    "        person_roles = {}\n",
    "        for role, person in assignment.items():\n",
    "            # Remove numbers from the end of the role\n",
    "            role_without_number = ''.join([i for i in role if not i.isdigit()]).strip()\n",
    "            if person not in person_roles:\n",
    "                person_roles[person] = []\n",
    "            person_roles[person].append(role_without_number)\n",
    "            # If the person has been assigned more than two roles or the same role twice\n",
    "            if len(person_roles[person]) > 2 or person_roles[person].count(role_without_number) > 1:\n",
    "                return False\n",
    "        \n",
    "       # for key, value in assignment.items():\n",
    "        #    print(key, value)\n",
    "        return True"
   ]
  },
  {
   "cell_type": "code",
   "execution_count": 124,
   "id": "a4a4052a",
   "metadata": {},
   "outputs": [],
   "source": [
    "# Define the variables (roles)\n",
    "variables = ['Python Programmer 1',\n",
    "             'Python Programmer 2', \n",
    "             'AI Engineer 1', \n",
    "             'AI Engineer 2', \n",
    "             'Web Designer', \n",
    "             'Database Admin', \n",
    "             'Systems Engineer']\n",
    "\n",
    "# Define the domains (people who can take each role)\n",
    "domains = {\n",
    "    'Python Programmer 1': ['Ciara'],\n",
    "    'Python Programmer 2': ['Peter', 'Jane', 'Bruce'],\n",
    "    'AI Engineer 1': ['Peter', 'Anita', 'Jim', 'Juan'],\n",
    "    'AI Engineer 2': ['Peter', 'Juan', 'Jim', 'Anita'],\n",
    "    'Web Designer': ['Juan', 'Mary', 'Anita'],\n",
    "    'Database Admin': ['Jane'],\n",
    "    'Systems Engineer': ['Jim', 'Mary', 'Bruce']\n",
    "}\n",
    "\n",
    "# Get a list of all people\n",
    "people = ['Peter','Juan', 'Jim','Jane','Mary','Bruce','Anita','Ciara']"
   ]
  },
  {
   "cell_type": "code",
   "execution_count": 125,
   "id": "46e99c63",
   "metadata": {},
   "outputs": [
    {
     "name": "stdout",
     "output_type": "stream",
     "text": [
      "Final dict_values(['Ciara'])\n",
      "Final dict_values(['Ciara', 'Peter'])\n",
      "Final dict_values(['Ciara', 'Peter', 'Peter'])\n",
      "Final dict_values(['Ciara', 'Peter', 'Peter', 'Peter'])\n",
      "Final dict_values(['Ciara', 'Peter', 'Peter', 'Juan'])\n",
      "Final dict_values(['Ciara', 'Peter', 'Peter', 'Juan', 'Juan'])\n",
      "Final dict_values(['Ciara', 'Peter', 'Peter', 'Juan', 'Juan', 'Jane'])\n",
      "Final dict_values(['Ciara', 'Peter', 'Peter', 'Juan', 'Mary'])\n",
      "Final dict_values(['Ciara', 'Peter', 'Peter', 'Juan', 'Anita'])\n",
      "Final dict_values(['Ciara', 'Peter', 'Peter', 'Jim'])\n",
      "Final dict_values(['Ciara', 'Peter', 'Peter', 'Jim', 'Juan'])\n",
      "Final dict_values(['Ciara', 'Peter', 'Peter', 'Jim', 'Mary'])\n",
      "Final dict_values(['Ciara', 'Peter', 'Peter', 'Jim', 'Anita'])\n",
      "Final dict_values(['Ciara', 'Peter', 'Peter', 'Anita'])\n",
      "Final dict_values(['Ciara', 'Peter', 'Peter', 'Anita', 'Juan'])\n",
      "Final dict_values(['Ciara', 'Peter', 'Peter', 'Anita', 'Mary'])\n",
      "Final dict_values(['Ciara', 'Peter', 'Peter', 'Anita', 'Anita'])\n",
      "Final dict_values(['Ciara', 'Peter', 'Peter', 'Anita', 'Anita', 'Jane'])\n",
      "Final dict_values(['Ciara', 'Peter', 'Anita'])\n",
      "Final dict_values(['Ciara', 'Peter', 'Anita', 'Peter'])\n",
      "Final dict_values(['Ciara', 'Peter', 'Anita', 'Peter', 'Juan'])\n",
      "Final dict_values(['Ciara', 'Peter', 'Anita', 'Peter', 'Mary'])\n",
      "Final dict_values(['Ciara', 'Peter', 'Anita', 'Peter', 'Anita'])\n",
      "Final dict_values(['Ciara', 'Peter', 'Anita', 'Peter', 'Anita', 'Jane'])\n",
      "Final dict_values(['Ciara', 'Peter', 'Anita', 'Juan'])\n",
      "Final dict_values(['Ciara', 'Peter', 'Anita', 'Juan', 'Juan'])\n",
      "Final dict_values(['Ciara', 'Peter', 'Anita', 'Juan', 'Anita'])\n",
      "Final dict_values(['Ciara', 'Peter', 'Anita', 'Jim'])\n",
      "Final dict_values(['Ciara', 'Peter', 'Anita', 'Jim', 'Anita'])\n",
      "Final dict_values(['Ciara', 'Peter', 'Anita', 'Anita'])\n",
      "Final dict_values(['Ciara', 'Peter', 'Jim'])\n",
      "Final dict_values(['Ciara', 'Peter', 'Jim', 'Peter'])\n",
      "Final dict_values(['Ciara', 'Peter', 'Jim', 'Peter', 'Juan'])\n",
      "Final dict_values(['Ciara', 'Peter', 'Jim', 'Peter', 'Mary'])\n",
      "Final dict_values(['Ciara', 'Peter', 'Jim', 'Peter', 'Anita'])\n",
      "Final dict_values(['Ciara', 'Peter', 'Jim', 'Juan'])\n",
      "Final dict_values(['Ciara', 'Peter', 'Jim', 'Juan', 'Juan'])\n",
      "Final dict_values(['Ciara', 'Peter', 'Jim', 'Jim'])\n",
      "Final dict_values(['Ciara', 'Peter', 'Jim', 'Anita'])\n",
      "Final dict_values(['Ciara', 'Peter', 'Jim', 'Anita', 'Anita'])\n",
      "Final dict_values(['Ciara', 'Peter', 'Juan'])\n",
      "Final dict_values(['Ciara', 'Peter', 'Juan', 'Peter'])\n",
      "Final dict_values(['Ciara', 'Peter', 'Juan', 'Peter', 'Juan'])\n",
      "Final dict_values(['Ciara', 'Peter', 'Juan', 'Peter', 'Juan', 'Jane'])\n",
      "Final dict_values(['Ciara', 'Peter', 'Juan', 'Peter', 'Mary'])\n",
      "Final dict_values(['Ciara', 'Peter', 'Juan', 'Peter', 'Anita'])\n",
      "Final dict_values(['Ciara', 'Peter', 'Juan', 'Juan'])\n",
      "Final dict_values(['Ciara', 'Peter', 'Juan', 'Jim'])\n",
      "Final dict_values(['Ciara', 'Peter', 'Juan', 'Jim', 'Juan'])\n",
      "Final dict_values(['Ciara', 'Peter', 'Juan', 'Anita'])\n",
      "Final dict_values(['Ciara', 'Peter', 'Juan', 'Anita', 'Juan'])\n",
      "Final dict_values(['Ciara', 'Peter', 'Juan', 'Anita', 'Anita'])\n",
      "Final dict_values(['Ciara', 'Jane'])\n",
      "Final dict_values(['Ciara', 'Jane', 'Peter'])\n",
      "Final dict_values(['Ciara', 'Jane', 'Peter', 'Peter'])\n",
      "Final dict_values(['Ciara', 'Jane', 'Peter', 'Juan'])\n",
      "Final dict_values(['Ciara', 'Jane', 'Peter', 'Juan', 'Juan'])\n",
      "Final dict_values(['Ciara', 'Jane', 'Peter', 'Juan', 'Juan', 'Jane'])\n",
      "Final dict_values(['Ciara', 'Jane', 'Peter', 'Jim'])\n",
      "Final dict_values(['Ciara', 'Jane', 'Peter', 'Anita'])\n",
      "Final dict_values(['Ciara', 'Jane', 'Peter', 'Anita', 'Anita'])\n",
      "Final dict_values(['Ciara', 'Jane', 'Peter', 'Anita', 'Anita', 'Jane'])\n",
      "Final dict_values(['Ciara', 'Jane', 'Anita'])\n",
      "Final dict_values(['Ciara', 'Jane', 'Anita', 'Peter'])\n",
      "Final dict_values(['Ciara', 'Jane', 'Anita', 'Peter', 'Anita'])\n",
      "Final dict_values(['Ciara', 'Jane', 'Anita', 'Peter', 'Anita', 'Jane'])\n",
      "Final dict_values(['Ciara', 'Jane', 'Anita', 'Juan'])\n",
      "Final dict_values(['Ciara', 'Jane', 'Anita', 'Juan', 'Juan'])\n",
      "Final dict_values(['Ciara', 'Jane', 'Anita', 'Juan', 'Juan', 'Jane'])\n",
      "Final dict_values(['Ciara', 'Jane', 'Anita', 'Juan', 'Anita'])\n",
      "Final dict_values(['Ciara', 'Jane', 'Anita', 'Juan', 'Anita', 'Jane'])\n",
      "Final dict_values(['Ciara', 'Jane', 'Anita', 'Jim'])\n",
      "Final dict_values(['Ciara', 'Jane', 'Anita', 'Jim', 'Anita'])\n",
      "Final dict_values(['Ciara', 'Jane', 'Anita', 'Jim', 'Anita', 'Jane'])\n",
      "Final dict_values(['Ciara', 'Jane', 'Anita', 'Jim', 'Anita', 'Jane', 'Jim'])\n",
      "Solution {'Python Programmer 1': 'Ciara', 'Python Programmer 2': 'Jane', 'AI Engineer 1': 'Anita', 'AI Engineer 2': 'Jim', 'Web Designer': 'Anita', 'Database Admin': 'Jane', 'Systems Engineer': 'Jim'}\n"
     ]
    }
   ],
   "source": [
    "# Create the CSP\n",
    "csp = CSP(variables, domains)\n",
    "\n",
    "# Add the constraints\n",
    "csp.add_constraint(MaxThreePeopleConstraint(variables))\n",
    "csp.add_constraint(MaxTwoRolesConstraint(variables))\n",
    "\n",
    "# Find a solution\n",
    "solution = csp.backtracking_search()\n",
    "if solution is None:\n",
    "    print(\"No solution found!\")\n",
    "else:\n",
    "    print(\"Solution\",solution)\n",
    "    "
   ]
  },
  {
   "cell_type": "code",
   "execution_count": null,
   "id": "78e0f09b",
   "metadata": {},
   "outputs": [],
   "source": []
  },
  {
   "cell_type": "code",
   "execution_count": null,
   "id": "51024832",
   "metadata": {},
   "outputs": [],
   "source": []
  },
  {
   "cell_type": "code",
   "execution_count": null,
   "id": "4808e6c6",
   "metadata": {},
   "outputs": [],
   "source": []
  }
 ],
 "metadata": {
  "kernelspec": {
   "display_name": "Python 3 (ipykernel)",
   "language": "python",
   "name": "python3"
  },
  "language_info": {
   "codemirror_mode": {
    "name": "ipython",
    "version": 3
   },
   "file_extension": ".py",
   "mimetype": "text/x-python",
   "name": "python",
   "nbconvert_exporter": "python",
   "pygments_lexer": "ipython3",
   "version": "3.9.12"
  }
 },
 "nbformat": 4,
 "nbformat_minor": 5
}
