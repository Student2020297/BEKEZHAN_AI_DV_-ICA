{
 "cells": [
  {
   "cell_type": "code",
   "execution_count": 7,
   "id": "78a1861b",
   "metadata": {},
   "outputs": [],
   "source": [
    "import csp\n",
    "from csp import Constraint, CSP"
   ]
  },
  {
   "cell_type": "code",
   "execution_count": 8,
   "id": "23f5b9c8",
   "metadata": {},
   "outputs": [],
   "source": [
    "from typing import Dict, List, Optional"
   ]
  },
  {
   "cell_type": "markdown",
   "id": "e0ff94c8",
   "metadata": {},
   "source": [
    "### Tasks for Artificial Intelligence\n",
    "\n",
    "Ciara is looking for employees for her new company, which develops and provides AI based logistic software for retailers. Ciara has determined that she needs:\n",
    "\n",
    "2 Python Programmers, 2 AI Engineers, 1 Web Designer, 1 Database Admin, and 1 Systems Engineer.\n",
    "Assume that if a person has two abilities, he or she can take on two roles in the company.\n",
    "\n",
    "So Ciara narrowed down her selections to the following people:\n",
    "\n",
    "| Name  | Abilities |\n",
    "|:-----:|:---------:|\n",
    "| Peter | Python and AI |\n",
    "| Juan  | Web and AI |\n",
    "| Jim   | AI and Systems |\n",
    "| Jane  | Python and Database |\n",
    "| Mary  | Web and Systems |\n",
    "| Bruce | Systems and Python |\n",
    "| Anita | Web and AI |\n",
    "\n",
    "\n",
    "Scenario 1:\n",
    "\n",
    "Suppose Ciara knows Python, and only has funds to hire three more people.\n"
   ]
  },
  {
   "cell_type": "markdown",
   "id": "e8ab9bcd",
   "metadata": {},
   "source": [
    "## Scenario 1\n"
   ]
  },
  {
   "cell_type": "markdown",
   "id": "d2f736e5",
   "metadata": {},
   "source": [
    "In this particular problem, there are many ways to distribute roles. In Constraint Satisfaction Problem (CSP), there are three main elements: Variables(X), Domain(D) and Constraints(Rules). One of the most obvious ways would be to define the elements in the context of a CSP in the following way:\n",
    "\n",
    "- **Variables (X)**: These are the entities whose values need to be determined. In this case, the variables would be the roles Ciara needs to fill in her company, i.e., Python Programmer, AI Engineer, Web Designer, Database Admin, and Systems Engineer.\n",
    "\n",
    "- **Domain**: This is the set of possible values that the variables can take. Here, the domain would be the set of people Ciara can hire for each role, i.e., for Python Developer position we would have domains like ('Peter', 'Jane', 'Bruce', 'Ciara')since Ciara knows python we need to include her as well .\n",
    "\n",
    "- **Constraints (Factors)**: They are basically the rules/restrictions that need to be satisfied in order to assign the domain value to a variable. In this case constraints are:\n",
    "    1. Each role must be filled by someone who has the corresponding ability.\n",
    "    (I won't include this particular constraint, since we can avoid it, by simply not adding people to a variable's domain, if those people won't have a corresponding ability) \n",
    "    2. One person cannot work in the same position\n",
    "    3. Ciara can only hire three more people.\n",
    "\n",
    "Since none of the applicants has 3 or more skills, the constraint “that a person cannot hold more than 2 positions” not need to be written.\n",
    "\n",
    "This forms the basis of the CSP: \n",
    "\n",
    "    'Python Programmer 1': ['Peter', 'Jane', 'Bruce', 'Ciara']\n",
    "    'Python Programmer 2': ['Peter', 'Jane', 'Bruce', 'Ciara']\n",
    "    'AI Engineer 1': ['Jim', 'Juan', 'Peter', 'Anita']\n",
    "    'AI Engineer 2': ['Jim', 'Juan', 'Peter', 'Anita']\n",
    "    'Web Designer': ['Juan', 'Mary', 'Anita']\n",
    "    'Database Admin': ['Jane']\n",
    "    'Systems Engineer': ['Jim', 'Mary', 'Bruce']"
   ]
  },
  {
   "cell_type": "markdown",
   "id": "14bcdb47",
   "metadata": {},
   "source": [
    "## Solution 1\n"
   ]
  },
  {
   "cell_type": "code",
   "execution_count": 12,
   "id": "5715859d",
   "metadata": {},
   "outputs": [],
   "source": [
    "# One person cannot work in the same position \n",
    "class HiringLimitConstraint(Constraint[str, str]):\n",
    "    def __init__(self, role1: str, role2: str):\n",
    "        super().__init__([role1, role2])\n",
    "        self.role1: str = role1\n",
    "        self.role2: str = role2\n",
    "            \n",
    "    def satisfied(self, assignment: Dict[str, str]) -> bool:\n",
    "        \"\"\"If either self.role1 or self.role2 has not been assigned yet \n",
    "        (i.e., they are not keys in the assignment dictionary), \n",
    "        then it’s impossible for the same person to have been assigned to both roles, \n",
    "        because at least one of the roles hasn’t been assigned yet.\n",
    "        Therefore, the constraint is satisfied, and the function returns True.\"\"\"\n",
    "        \n",
    "        # Check if the roles have been assigned yet\n",
    "        role1_assigned = self.role1 in assignment\n",
    "        role2_assigned = self.role2 in assignment\n",
    "\n",
    "        # If either role has not been assigned yet, there can't be a conflict\n",
    "        if not role1_assigned or not role2_assigned:\n",
    "            return True\n",
    "        # If both roles have been assigned we check if they have been assigned with the same person\n",
    "        \n",
    "        # If the same person were hired to a certain two positions, return False\n",
    "        return assignment[self.role1] != assignment[self.role2]\n",
    "    "
   ]
  },
  {
   "cell_type": "code",
   "execution_count": 13,
   "id": "1bf97cca",
   "metadata": {},
   "outputs": [],
   "source": [
    "# Ciara can only hire three more people.\n",
    "class HiringLimitConstraint2(Constraint[str, str]):\n",
    "    def __init__(self, variables: List[str]) -> None:\n",
    "        super().__init__(variables)\n",
    "        self.variables: List[str] = variables\n",
    "            \n",
    "    def satisfied(self, assignment: Dict[str, str]) -> bool:\n",
    "        # if len(assignment) == len(self.variables):\n",
    "            # Count the total number of unique people hired\n",
    "            unique_people = set(assignment.values())\n",
    "            # Check if more than 4 people are hired (4 including Ciara)\n",
    "            #print(unique_people)\n",
    "            return len(unique_people) <= 4\n"
   ]
  },
  {
   "cell_type": "code",
   "execution_count": 14,
   "id": "76085f84",
   "metadata": {
    "scrolled": false
   },
   "outputs": [
    {
     "name": "stdout",
     "output_type": "stream",
     "text": [
      "Solution :\n",
      "{'Juan', 'Jane', 'Ciara', 'Jim'}\n",
      "Python Programmer 1 Ciara\n",
      "Python Programmer 2 Jane\n",
      "AI Engineer 1 Jim\n",
      "AI Engineer 2 Juan\n",
      "Web Designer Juan\n",
      "Database Admin Jane\n",
      "Systems Engineer Jim\n"
     ]
    }
   ],
   "source": [
    "if __name__ == \"__main__\": \n",
    "    # Define the variables (roles)\n",
    "    variables = ['Python Programmer 1',\n",
    "                 'Python Programmer 2', \n",
    "                 'AI Engineer 1', \n",
    "                 'AI Engineer 2', \n",
    "                 'Web Designer', \n",
    "                 'Database Admin', \n",
    "                 'Systems Engineer']\n",
    "\n",
    "    # Define the domains (people who can take each role)\n",
    "    domains = {\n",
    "        'Python Programmer 1': ['Peter', 'Jane', 'Bruce', 'Ciara'],\n",
    "        'Python Programmer 2': ['Peter', 'Jane', 'Bruce', 'Ciara'],\n",
    "        'AI Engineer 1': ['Jim', 'Juan', 'Peter', 'Anita'],\n",
    "        'AI Engineer 2':['Jim', 'Juan', 'Peter', 'Anita'],\n",
    "        'Web Designer': ['Juan', 'Mary', 'Anita'],\n",
    "        'Database Admin': ['Jane'],\n",
    "        'Systems Engineer': ['Jim', 'Mary', 'Bruce']}\n",
    "    \n",
    "    # Create the CSP\n",
    "    csp = CSP(variables, domains)\n",
    "    \n",
    "    # Assign the main hard constraints\n",
    "    domains['Python Programmer 1'] = ['Ciara'] \n",
    "    \n",
    "    # Add the constraints\n",
    "    csp.add_constraint(HiringLimitConstraint('Python Programmer 1','Python Programmer 2'))\n",
    "    csp.add_constraint(HiringLimitConstraint('AI Engineer 1','AI Engineer 2'))\n",
    "    csp.add_constraint(HiringLimitConstraint2(variables))\n",
    "\n",
    "    # Find a solution\n",
    "    solution = csp.backtracking_search()\n",
    "    if solution is None:\n",
    "        print(\"No solution found!\")\n",
    "    else:\n",
    "        print(\"Solution :\")\n",
    "        people_hired = set(solution.values())\n",
    "        print(people_hired)\n",
    "        for keys,values in solution.items():\n",
    "            print(keys, values)\n",
    "        "
   ]
  },
  {
   "cell_type": "code",
   "execution_count": null,
   "id": "6f9b4e4d",
   "metadata": {},
   "outputs": [],
   "source": []
  },
  {
   "cell_type": "code",
   "execution_count": null,
   "id": "89da3915",
   "metadata": {},
   "outputs": [],
   "source": []
  }
 ],
 "metadata": {
  "kernelspec": {
   "display_name": "Python 3 (ipykernel)",
   "language": "python",
   "name": "python3"
  },
  "language_info": {
   "codemirror_mode": {
    "name": "ipython",
    "version": 3
   },
   "file_extension": ".py",
   "mimetype": "text/x-python",
   "name": "python",
   "nbconvert_exporter": "python",
   "pygments_lexer": "ipython3",
   "version": "3.9.12"
  }
 },
 "nbformat": 4,
 "nbformat_minor": 5
}
