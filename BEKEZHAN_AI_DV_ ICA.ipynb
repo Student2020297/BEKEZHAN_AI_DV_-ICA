{
 "cells": [
  {
   "cell_type": "markdown",
   "id": "74dec83e",
   "metadata": {},
   "source": [
    "### AI Tasks\n",
    "    1. CSP for the task \n",
    "    1.b Alternative scenario \n",
    "    2. Discuss in detail how using Constraint Satisfaction finds an answer or finds no solution to the problems in Tasks for Artificial Intelligence part 1. How does this differ from standard algorithmic solutions?\n",
    "    3.Solve the task with one of other algorithms that we have covered so far in this module and EXPLAIN my solution \n",
    "    4. References "
   ]
  },
  {
   "cell_type": "code",
   "execution_count": null,
   "id": "0daa01b4",
   "metadata": {},
   "outputs": [],
   "source": []
  }
 ],
 "metadata": {
  "kernelspec": {
   "display_name": "Python 3 (ipykernel)",
   "language": "python",
   "name": "python3"
  },
  "language_info": {
   "codemirror_mode": {
    "name": "ipython",
    "version": 3
   },
   "file_extension": ".py",
   "mimetype": "text/x-python",
   "name": "python",
   "nbconvert_exporter": "python",
   "pygments_lexer": "ipython3",
   "version": "3.9.12"
  }
 },
 "nbformat": 4,
 "nbformat_minor": 5
}
